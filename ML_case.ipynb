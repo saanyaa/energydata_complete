{
 "cells": [
  {
   "cell_type": "markdown",
   "metadata": {},
   "source": [
    "## Подготовка данных"
   ]
  },
  {
   "cell_type": "markdown",
   "metadata": {},
   "source": [
    "**Импорт библиотек:**"
   ]
  },
  {
   "cell_type": "code",
   "execution_count": 78,
   "metadata": {},
   "outputs": [],
   "source": [
    "import pandas as pd\n",
    "import numpy as np\n",
    "import xgboost as xgb\n",
    "import matplotlib.pyplot as plt\n",
    "from sklearn.linear_model import Lasso"
   ]
  },
  {
   "cell_type": "markdown",
   "metadata": {},
   "source": [
    "**Считываем данные:**"
   ]
  },
  {
   "cell_type": "code",
   "execution_count": 3,
   "metadata": {},
   "outputs": [],
   "source": [
    "data = pd.read_csv('data/energydata_complete.csv')"
   ]
  },
  {
   "cell_type": "code",
   "execution_count": 4,
   "metadata": {},
   "outputs": [
    {
     "data": {
      "text/html": [
       "<div>\n",
       "<style scoped>\n",
       "    .dataframe tbody tr th:only-of-type {\n",
       "        vertical-align: middle;\n",
       "    }\n",
       "\n",
       "    .dataframe tbody tr th {\n",
       "        vertical-align: top;\n",
       "    }\n",
       "\n",
       "    .dataframe thead th {\n",
       "        text-align: right;\n",
       "    }\n",
       "</style>\n",
       "<table border=\"1\" class=\"dataframe\">\n",
       "  <thead>\n",
       "    <tr style=\"text-align: right;\">\n",
       "      <th></th>\n",
       "      <th>date</th>\n",
       "      <th>Appliances</th>\n",
       "      <th>lights</th>\n",
       "      <th>T1</th>\n",
       "      <th>RH_1</th>\n",
       "      <th>T2</th>\n",
       "      <th>RH_2</th>\n",
       "      <th>T3</th>\n",
       "      <th>RH_3</th>\n",
       "      <th>T4</th>\n",
       "      <th>...</th>\n",
       "      <th>T9</th>\n",
       "      <th>RH_9</th>\n",
       "      <th>T_out</th>\n",
       "      <th>Press_mm_hg</th>\n",
       "      <th>RH_out</th>\n",
       "      <th>Windspeed</th>\n",
       "      <th>Visibility</th>\n",
       "      <th>Tdewpoint</th>\n",
       "      <th>rv1</th>\n",
       "      <th>rv2</th>\n",
       "    </tr>\n",
       "  </thead>\n",
       "  <tbody>\n",
       "    <tr>\n",
       "      <th>0</th>\n",
       "      <td>2016-01-11 17:00:00</td>\n",
       "      <td>60</td>\n",
       "      <td>30</td>\n",
       "      <td>19.89</td>\n",
       "      <td>47.596667</td>\n",
       "      <td>19.2</td>\n",
       "      <td>44.790000</td>\n",
       "      <td>19.79</td>\n",
       "      <td>44.730000</td>\n",
       "      <td>19.000000</td>\n",
       "      <td>...</td>\n",
       "      <td>17.033333</td>\n",
       "      <td>45.53</td>\n",
       "      <td>6.600000</td>\n",
       "      <td>733.5</td>\n",
       "      <td>92.0</td>\n",
       "      <td>7.000000</td>\n",
       "      <td>63.000000</td>\n",
       "      <td>5.3</td>\n",
       "      <td>13.275433</td>\n",
       "      <td>13.275433</td>\n",
       "    </tr>\n",
       "    <tr>\n",
       "      <th>1</th>\n",
       "      <td>2016-01-11 17:10:00</td>\n",
       "      <td>60</td>\n",
       "      <td>30</td>\n",
       "      <td>19.89</td>\n",
       "      <td>46.693333</td>\n",
       "      <td>19.2</td>\n",
       "      <td>44.722500</td>\n",
       "      <td>19.79</td>\n",
       "      <td>44.790000</td>\n",
       "      <td>19.000000</td>\n",
       "      <td>...</td>\n",
       "      <td>17.066667</td>\n",
       "      <td>45.56</td>\n",
       "      <td>6.483333</td>\n",
       "      <td>733.6</td>\n",
       "      <td>92.0</td>\n",
       "      <td>6.666667</td>\n",
       "      <td>59.166667</td>\n",
       "      <td>5.2</td>\n",
       "      <td>18.606195</td>\n",
       "      <td>18.606195</td>\n",
       "    </tr>\n",
       "    <tr>\n",
       "      <th>2</th>\n",
       "      <td>2016-01-11 17:20:00</td>\n",
       "      <td>50</td>\n",
       "      <td>30</td>\n",
       "      <td>19.89</td>\n",
       "      <td>46.300000</td>\n",
       "      <td>19.2</td>\n",
       "      <td>44.626667</td>\n",
       "      <td>19.79</td>\n",
       "      <td>44.933333</td>\n",
       "      <td>18.926667</td>\n",
       "      <td>...</td>\n",
       "      <td>17.000000</td>\n",
       "      <td>45.50</td>\n",
       "      <td>6.366667</td>\n",
       "      <td>733.7</td>\n",
       "      <td>92.0</td>\n",
       "      <td>6.333333</td>\n",
       "      <td>55.333333</td>\n",
       "      <td>5.1</td>\n",
       "      <td>28.642668</td>\n",
       "      <td>28.642668</td>\n",
       "    </tr>\n",
       "    <tr>\n",
       "      <th>3</th>\n",
       "      <td>2016-01-11 17:30:00</td>\n",
       "      <td>50</td>\n",
       "      <td>40</td>\n",
       "      <td>19.89</td>\n",
       "      <td>46.066667</td>\n",
       "      <td>19.2</td>\n",
       "      <td>44.590000</td>\n",
       "      <td>19.79</td>\n",
       "      <td>45.000000</td>\n",
       "      <td>18.890000</td>\n",
       "      <td>...</td>\n",
       "      <td>17.000000</td>\n",
       "      <td>45.40</td>\n",
       "      <td>6.250000</td>\n",
       "      <td>733.8</td>\n",
       "      <td>92.0</td>\n",
       "      <td>6.000000</td>\n",
       "      <td>51.500000</td>\n",
       "      <td>5.0</td>\n",
       "      <td>45.410389</td>\n",
       "      <td>45.410389</td>\n",
       "    </tr>\n",
       "    <tr>\n",
       "      <th>4</th>\n",
       "      <td>2016-01-11 17:40:00</td>\n",
       "      <td>60</td>\n",
       "      <td>40</td>\n",
       "      <td>19.89</td>\n",
       "      <td>46.333333</td>\n",
       "      <td>19.2</td>\n",
       "      <td>44.530000</td>\n",
       "      <td>19.79</td>\n",
       "      <td>45.000000</td>\n",
       "      <td>18.890000</td>\n",
       "      <td>...</td>\n",
       "      <td>17.000000</td>\n",
       "      <td>45.40</td>\n",
       "      <td>6.133333</td>\n",
       "      <td>733.9</td>\n",
       "      <td>92.0</td>\n",
       "      <td>5.666667</td>\n",
       "      <td>47.666667</td>\n",
       "      <td>4.9</td>\n",
       "      <td>10.084097</td>\n",
       "      <td>10.084097</td>\n",
       "    </tr>\n",
       "  </tbody>\n",
       "</table>\n",
       "<p>5 rows × 29 columns</p>\n",
       "</div>"
      ],
      "text/plain": [
       "                  date  Appliances  lights     T1       RH_1    T2       RH_2  \\\n",
       "0  2016-01-11 17:00:00          60      30  19.89  47.596667  19.2  44.790000   \n",
       "1  2016-01-11 17:10:00          60      30  19.89  46.693333  19.2  44.722500   \n",
       "2  2016-01-11 17:20:00          50      30  19.89  46.300000  19.2  44.626667   \n",
       "3  2016-01-11 17:30:00          50      40  19.89  46.066667  19.2  44.590000   \n",
       "4  2016-01-11 17:40:00          60      40  19.89  46.333333  19.2  44.530000   \n",
       "\n",
       "      T3       RH_3         T4  ...         T9   RH_9     T_out  Press_mm_hg  \\\n",
       "0  19.79  44.730000  19.000000  ...  17.033333  45.53  6.600000        733.5   \n",
       "1  19.79  44.790000  19.000000  ...  17.066667  45.56  6.483333        733.6   \n",
       "2  19.79  44.933333  18.926667  ...  17.000000  45.50  6.366667        733.7   \n",
       "3  19.79  45.000000  18.890000  ...  17.000000  45.40  6.250000        733.8   \n",
       "4  19.79  45.000000  18.890000  ...  17.000000  45.40  6.133333        733.9   \n",
       "\n",
       "   RH_out  Windspeed  Visibility  Tdewpoint        rv1        rv2  \n",
       "0    92.0   7.000000   63.000000        5.3  13.275433  13.275433  \n",
       "1    92.0   6.666667   59.166667        5.2  18.606195  18.606195  \n",
       "2    92.0   6.333333   55.333333        5.1  28.642668  28.642668  \n",
       "3    92.0   6.000000   51.500000        5.0  45.410389  45.410389  \n",
       "4    92.0   5.666667   47.666667        4.9  10.084097  10.084097  \n",
       "\n",
       "[5 rows x 29 columns]"
      ]
     },
     "execution_count": 4,
     "metadata": {},
     "output_type": "execute_result"
    }
   ],
   "source": [
    "data.head()"
   ]
  },
  {
   "cell_type": "markdown",
   "metadata": {},
   "source": [
    "**Перед нами `time-series`данные, со следующим набором features(`Appliances` - целевая переменная, label):**"
   ]
  },
  {
   "cell_type": "code",
   "execution_count": 5,
   "metadata": {},
   "outputs": [
    {
     "data": {
      "text/plain": [
       "Index(['date', 'Appliances', 'lights', 'T1', 'RH_1', 'T2', 'RH_2', 'T3',\n",
       "       'RH_3', 'T4', 'RH_4', 'T5', 'RH_5', 'T6', 'RH_6', 'T7', 'RH_7', 'T8',\n",
       "       'RH_8', 'T9', 'RH_9', 'T_out', 'Press_mm_hg', 'RH_out', 'Windspeed',\n",
       "       'Visibility', 'Tdewpoint', 'rv1', 'rv2'],\n",
       "      dtype='object')"
      ]
     },
     "execution_count": 5,
     "metadata": {},
     "output_type": "execute_result"
    }
   ],
   "source": [
    "data.columns"
   ]
  },
  {
   "cell_type": "markdown",
   "metadata": {},
   "source": [
    "**1. Переведем стоблец `data` к формату `datetime`**  \n",
    "**2. Создадим признак `week` в которой содержится номер недели - `weekofyear`:**"
   ]
  },
  {
   "cell_type": "code",
   "execution_count": 7,
   "metadata": {},
   "outputs": [],
   "source": [
    "data['date'] = data['date'].apply(pd.to_datetime)\n",
    "data['week'] = data['date'].apply(lambda t: t.weekofyear)"
   ]
  },
  {
   "cell_type": "markdown",
   "metadata": {},
   "source": [
    "**Посмортим на количество записей сгруппированных по неделям - `week`:**"
   ]
  },
  {
   "cell_type": "code",
   "execution_count": 13,
   "metadata": {},
   "outputs": [
    {
     "data": {
      "text/html": [
       "<div>\n",
       "<style scoped>\n",
       "    .dataframe tbody tr th:only-of-type {\n",
       "        vertical-align: middle;\n",
       "    }\n",
       "\n",
       "    .dataframe tbody tr th {\n",
       "        vertical-align: top;\n",
       "    }\n",
       "\n",
       "    .dataframe thead th {\n",
       "        text-align: right;\n",
       "    }\n",
       "</style>\n",
       "<table border=\"1\" class=\"dataframe\">\n",
       "  <thead>\n",
       "    <tr style=\"text-align: right;\">\n",
       "      <th></th>\n",
       "      <th>date</th>\n",
       "    </tr>\n",
       "    <tr>\n",
       "      <th>week</th>\n",
       "      <th></th>\n",
       "    </tr>\n",
       "  </thead>\n",
       "  <tbody>\n",
       "    <tr>\n",
       "      <th>2</th>\n",
       "      <td>906</td>\n",
       "    </tr>\n",
       "    <tr>\n",
       "      <th>3</th>\n",
       "      <td>1008</td>\n",
       "    </tr>\n",
       "    <tr>\n",
       "      <th>4</th>\n",
       "      <td>1008</td>\n",
       "    </tr>\n",
       "    <tr>\n",
       "      <th>5</th>\n",
       "      <td>1008</td>\n",
       "    </tr>\n",
       "    <tr>\n",
       "      <th>6</th>\n",
       "      <td>1008</td>\n",
       "    </tr>\n",
       "    <tr>\n",
       "      <th>7</th>\n",
       "      <td>1008</td>\n",
       "    </tr>\n",
       "    <tr>\n",
       "      <th>8</th>\n",
       "      <td>1008</td>\n",
       "    </tr>\n",
       "    <tr>\n",
       "      <th>9</th>\n",
       "      <td>1008</td>\n",
       "    </tr>\n",
       "    <tr>\n",
       "      <th>10</th>\n",
       "      <td>1008</td>\n",
       "    </tr>\n",
       "    <tr>\n",
       "      <th>11</th>\n",
       "      <td>1008</td>\n",
       "    </tr>\n",
       "    <tr>\n",
       "      <th>12</th>\n",
       "      <td>1008</td>\n",
       "    </tr>\n",
       "    <tr>\n",
       "      <th>13</th>\n",
       "      <td>1008</td>\n",
       "    </tr>\n",
       "    <tr>\n",
       "      <th>14</th>\n",
       "      <td>1008</td>\n",
       "    </tr>\n",
       "    <tr>\n",
       "      <th>15</th>\n",
       "      <td>1008</td>\n",
       "    </tr>\n",
       "    <tr>\n",
       "      <th>16</th>\n",
       "      <td>1008</td>\n",
       "    </tr>\n",
       "    <tr>\n",
       "      <th>17</th>\n",
       "      <td>1008</td>\n",
       "    </tr>\n",
       "    <tr>\n",
       "      <th>18</th>\n",
       "      <td>1008</td>\n",
       "    </tr>\n",
       "    <tr>\n",
       "      <th>19</th>\n",
       "      <td>1008</td>\n",
       "    </tr>\n",
       "    <tr>\n",
       "      <th>20</th>\n",
       "      <td>1008</td>\n",
       "    </tr>\n",
       "    <tr>\n",
       "      <th>21</th>\n",
       "      <td>685</td>\n",
       "    </tr>\n",
       "  </tbody>\n",
       "</table>\n",
       "</div>"
      ],
      "text/plain": [
       "      date\n",
       "week      \n",
       "2      906\n",
       "3     1008\n",
       "4     1008\n",
       "5     1008\n",
       "6     1008\n",
       "7     1008\n",
       "8     1008\n",
       "9     1008\n",
       "10    1008\n",
       "11    1008\n",
       "12    1008\n",
       "13    1008\n",
       "14    1008\n",
       "15    1008\n",
       "16    1008\n",
       "17    1008\n",
       "18    1008\n",
       "19    1008\n",
       "20    1008\n",
       "21     685"
      ]
     },
     "execution_count": 13,
     "metadata": {},
     "output_type": "execute_result"
    }
   ],
   "source": [
    "data.groupby('week')[['date']].count()"
   ]
  },
  {
   "cell_type": "markdown",
   "metadata": {},
   "source": [
    "**Оставим только недели с 3 по 20:**"
   ]
  },
  {
   "cell_type": "code",
   "execution_count": 14,
   "metadata": {},
   "outputs": [],
   "source": [
    "data.drop(data[(data['week'] < 3) | (data['week'] > 20)].index, axis=0, inplace=True)"
   ]
  },
  {
   "cell_type": "markdown",
   "metadata": {},
   "source": [
    "**Сделаем столбец `date` индексом:**"
   ]
  },
  {
   "cell_type": "code",
   "execution_count": 16,
   "metadata": {},
   "outputs": [],
   "source": [
    "data = data.set_index('date')"
   ]
  },
  {
   "cell_type": "code",
   "execution_count": 17,
   "metadata": {},
   "outputs": [
    {
     "name": "stdout",
     "output_type": "stream",
     "text": [
      "<class 'pandas.core.frame.DataFrame'>\n",
      "DatetimeIndex: 18144 entries, 2016-01-18 00:00:00 to 2016-05-22 23:50:00\n",
      "Data columns (total 29 columns):\n",
      " #   Column       Non-Null Count  Dtype  \n",
      "---  ------       --------------  -----  \n",
      " 0   Appliances   18144 non-null  int64  \n",
      " 1   lights       18144 non-null  int64  \n",
      " 2   T1           18144 non-null  float64\n",
      " 3   RH_1         18144 non-null  float64\n",
      " 4   T2           18144 non-null  float64\n",
      " 5   RH_2         18144 non-null  float64\n",
      " 6   T3           18144 non-null  float64\n",
      " 7   RH_3         18144 non-null  float64\n",
      " 8   T4           18144 non-null  float64\n",
      " 9   RH_4         18144 non-null  float64\n",
      " 10  T5           18144 non-null  float64\n",
      " 11  RH_5         18144 non-null  float64\n",
      " 12  T6           18144 non-null  float64\n",
      " 13  RH_6         18144 non-null  float64\n",
      " 14  T7           18144 non-null  float64\n",
      " 15  RH_7         18144 non-null  float64\n",
      " 16  T8           18144 non-null  float64\n",
      " 17  RH_8         18144 non-null  float64\n",
      " 18  T9           18144 non-null  float64\n",
      " 19  RH_9         18144 non-null  float64\n",
      " 20  T_out        18144 non-null  float64\n",
      " 21  Press_mm_hg  18144 non-null  float64\n",
      " 22  RH_out       18144 non-null  float64\n",
      " 23  Windspeed    18144 non-null  float64\n",
      " 24  Visibility   18144 non-null  float64\n",
      " 25  Tdewpoint    18144 non-null  float64\n",
      " 26  rv1          18144 non-null  float64\n",
      " 27  rv2          18144 non-null  float64\n",
      " 28  week         18144 non-null  int64  \n",
      "dtypes: float64(26), int64(3)\n",
      "memory usage: 4.2 MB\n"
     ]
    }
   ],
   "source": [
    "data.info()"
   ]
  },
  {
   "cell_type": "markdown",
   "metadata": {},
   "source": [
    "**Перводем все столбцы(кроме `week`) в формат `float64`:**"
   ]
  },
  {
   "cell_type": "code",
   "execution_count": 18,
   "metadata": {},
   "outputs": [],
   "source": [
    "data['Appliances'] = data['Appliances'].astype('float')\n",
    "data['lights'] = data['lights'].astype('float')"
   ]
  },
  {
   "cell_type": "code",
   "execution_count": 19,
   "metadata": {},
   "outputs": [
    {
     "data": {
      "text/html": [
       "<div>\n",
       "<style scoped>\n",
       "    .dataframe tbody tr th:only-of-type {\n",
       "        vertical-align: middle;\n",
       "    }\n",
       "\n",
       "    .dataframe tbody tr th {\n",
       "        vertical-align: top;\n",
       "    }\n",
       "\n",
       "    .dataframe thead th {\n",
       "        text-align: right;\n",
       "    }\n",
       "</style>\n",
       "<table border=\"1\" class=\"dataframe\">\n",
       "  <thead>\n",
       "    <tr style=\"text-align: right;\">\n",
       "      <th></th>\n",
       "      <th>Appliances</th>\n",
       "      <th>lights</th>\n",
       "      <th>T1</th>\n",
       "      <th>RH_1</th>\n",
       "      <th>T2</th>\n",
       "      <th>RH_2</th>\n",
       "      <th>T3</th>\n",
       "      <th>RH_3</th>\n",
       "      <th>T4</th>\n",
       "      <th>RH_4</th>\n",
       "      <th>...</th>\n",
       "      <th>RH_9</th>\n",
       "      <th>T_out</th>\n",
       "      <th>Press_mm_hg</th>\n",
       "      <th>RH_out</th>\n",
       "      <th>Windspeed</th>\n",
       "      <th>Visibility</th>\n",
       "      <th>Tdewpoint</th>\n",
       "      <th>rv1</th>\n",
       "      <th>rv2</th>\n",
       "      <th>week</th>\n",
       "    </tr>\n",
       "    <tr>\n",
       "      <th>date</th>\n",
       "      <th></th>\n",
       "      <th></th>\n",
       "      <th></th>\n",
       "      <th></th>\n",
       "      <th></th>\n",
       "      <th></th>\n",
       "      <th></th>\n",
       "      <th></th>\n",
       "      <th></th>\n",
       "      <th></th>\n",
       "      <th></th>\n",
       "      <th></th>\n",
       "      <th></th>\n",
       "      <th></th>\n",
       "      <th></th>\n",
       "      <th></th>\n",
       "      <th></th>\n",
       "      <th></th>\n",
       "      <th></th>\n",
       "      <th></th>\n",
       "      <th></th>\n",
       "    </tr>\n",
       "  </thead>\n",
       "  <tbody>\n",
       "    <tr>\n",
       "      <th>2016-01-18 00:00:00</th>\n",
       "      <td>60.0</td>\n",
       "      <td>10.0</td>\n",
       "      <td>21.823333</td>\n",
       "      <td>39.900000</td>\n",
       "      <td>20.230000</td>\n",
       "      <td>40.0000</td>\n",
       "      <td>20.323333</td>\n",
       "      <td>39.79</td>\n",
       "      <td>21.166667</td>\n",
       "      <td>39.863333</td>\n",
       "      <td>...</td>\n",
       "      <td>38.400000</td>\n",
       "      <td>-2.800000</td>\n",
       "      <td>763.700000</td>\n",
       "      <td>86.0</td>\n",
       "      <td>2.0</td>\n",
       "      <td>25.0</td>\n",
       "      <td>-4.900000</td>\n",
       "      <td>2.995012</td>\n",
       "      <td>2.995012</td>\n",
       "      <td>3</td>\n",
       "    </tr>\n",
       "    <tr>\n",
       "      <th>2016-01-18 00:10:00</th>\n",
       "      <td>50.0</td>\n",
       "      <td>10.0</td>\n",
       "      <td>21.790000</td>\n",
       "      <td>39.933333</td>\n",
       "      <td>20.166667</td>\n",
       "      <td>40.0900</td>\n",
       "      <td>20.390000</td>\n",
       "      <td>39.79</td>\n",
       "      <td>21.100000</td>\n",
       "      <td>39.826667</td>\n",
       "      <td>...</td>\n",
       "      <td>38.466667</td>\n",
       "      <td>-2.883333</td>\n",
       "      <td>763.583333</td>\n",
       "      <td>86.0</td>\n",
       "      <td>2.0</td>\n",
       "      <td>25.5</td>\n",
       "      <td>-4.983333</td>\n",
       "      <td>7.407794</td>\n",
       "      <td>7.407794</td>\n",
       "      <td>3</td>\n",
       "    </tr>\n",
       "    <tr>\n",
       "      <th>2016-01-18 00:20:00</th>\n",
       "      <td>40.0</td>\n",
       "      <td>10.0</td>\n",
       "      <td>21.730000</td>\n",
       "      <td>40.000000</td>\n",
       "      <td>20.075000</td>\n",
       "      <td>40.0675</td>\n",
       "      <td>20.323333</td>\n",
       "      <td>39.79</td>\n",
       "      <td>21.100000</td>\n",
       "      <td>39.900000</td>\n",
       "      <td>...</td>\n",
       "      <td>38.400000</td>\n",
       "      <td>-2.966667</td>\n",
       "      <td>763.466667</td>\n",
       "      <td>86.0</td>\n",
       "      <td>2.0</td>\n",
       "      <td>26.0</td>\n",
       "      <td>-5.066667</td>\n",
       "      <td>3.649394</td>\n",
       "      <td>3.649394</td>\n",
       "      <td>3</td>\n",
       "    </tr>\n",
       "    <tr>\n",
       "      <th>2016-01-18 00:30:00</th>\n",
       "      <td>30.0</td>\n",
       "      <td>20.0</td>\n",
       "      <td>21.666667</td>\n",
       "      <td>40.000000</td>\n",
       "      <td>20.000000</td>\n",
       "      <td>40.0000</td>\n",
       "      <td>20.290000</td>\n",
       "      <td>39.70</td>\n",
       "      <td>21.100000</td>\n",
       "      <td>39.933333</td>\n",
       "      <td>...</td>\n",
       "      <td>38.466667</td>\n",
       "      <td>-3.050000</td>\n",
       "      <td>763.350000</td>\n",
       "      <td>86.0</td>\n",
       "      <td>2.0</td>\n",
       "      <td>26.5</td>\n",
       "      <td>-5.150000</td>\n",
       "      <td>2.144295</td>\n",
       "      <td>2.144295</td>\n",
       "      <td>3</td>\n",
       "    </tr>\n",
       "    <tr>\n",
       "      <th>2016-01-18 00:40:00</th>\n",
       "      <td>40.0</td>\n",
       "      <td>0.0</td>\n",
       "      <td>21.600000</td>\n",
       "      <td>40.193333</td>\n",
       "      <td>19.945000</td>\n",
       "      <td>40.0000</td>\n",
       "      <td>20.260000</td>\n",
       "      <td>39.76</td>\n",
       "      <td>21.100000</td>\n",
       "      <td>40.000000</td>\n",
       "      <td>...</td>\n",
       "      <td>38.590000</td>\n",
       "      <td>-3.133333</td>\n",
       "      <td>763.233333</td>\n",
       "      <td>86.0</td>\n",
       "      <td>2.0</td>\n",
       "      <td>27.0</td>\n",
       "      <td>-5.233333</td>\n",
       "      <td>26.123064</td>\n",
       "      <td>26.123064</td>\n",
       "      <td>3</td>\n",
       "    </tr>\n",
       "  </tbody>\n",
       "</table>\n",
       "<p>5 rows × 29 columns</p>\n",
       "</div>"
      ],
      "text/plain": [
       "                     Appliances  lights         T1       RH_1         T2  \\\n",
       "date                                                                       \n",
       "2016-01-18 00:00:00        60.0    10.0  21.823333  39.900000  20.230000   \n",
       "2016-01-18 00:10:00        50.0    10.0  21.790000  39.933333  20.166667   \n",
       "2016-01-18 00:20:00        40.0    10.0  21.730000  40.000000  20.075000   \n",
       "2016-01-18 00:30:00        30.0    20.0  21.666667  40.000000  20.000000   \n",
       "2016-01-18 00:40:00        40.0     0.0  21.600000  40.193333  19.945000   \n",
       "\n",
       "                        RH_2         T3   RH_3         T4       RH_4  ...  \\\n",
       "date                                                                  ...   \n",
       "2016-01-18 00:00:00  40.0000  20.323333  39.79  21.166667  39.863333  ...   \n",
       "2016-01-18 00:10:00  40.0900  20.390000  39.79  21.100000  39.826667  ...   \n",
       "2016-01-18 00:20:00  40.0675  20.323333  39.79  21.100000  39.900000  ...   \n",
       "2016-01-18 00:30:00  40.0000  20.290000  39.70  21.100000  39.933333  ...   \n",
       "2016-01-18 00:40:00  40.0000  20.260000  39.76  21.100000  40.000000  ...   \n",
       "\n",
       "                          RH_9     T_out  Press_mm_hg  RH_out  Windspeed  \\\n",
       "date                                                                       \n",
       "2016-01-18 00:00:00  38.400000 -2.800000   763.700000    86.0        2.0   \n",
       "2016-01-18 00:10:00  38.466667 -2.883333   763.583333    86.0        2.0   \n",
       "2016-01-18 00:20:00  38.400000 -2.966667   763.466667    86.0        2.0   \n",
       "2016-01-18 00:30:00  38.466667 -3.050000   763.350000    86.0        2.0   \n",
       "2016-01-18 00:40:00  38.590000 -3.133333   763.233333    86.0        2.0   \n",
       "\n",
       "                     Visibility  Tdewpoint        rv1        rv2  week  \n",
       "date                                                                    \n",
       "2016-01-18 00:00:00        25.0  -4.900000   2.995012   2.995012     3  \n",
       "2016-01-18 00:10:00        25.5  -4.983333   7.407794   7.407794     3  \n",
       "2016-01-18 00:20:00        26.0  -5.066667   3.649394   3.649394     3  \n",
       "2016-01-18 00:30:00        26.5  -5.150000   2.144295   2.144295     3  \n",
       "2016-01-18 00:40:00        27.0  -5.233333  26.123064  26.123064     3  \n",
       "\n",
       "[5 rows x 29 columns]"
      ]
     },
     "execution_count": 19,
     "metadata": {},
     "output_type": "execute_result"
    }
   ],
   "source": [
    "data.head()"
   ]
  },
  {
   "cell_type": "markdown",
   "metadata": {},
   "source": [
    "**Визуализируем последнюю неделю:**"
   ]
  },
  {
   "cell_type": "code",
   "execution_count": 27,
   "metadata": {},
   "outputs": [
    {
     "data": {
      "image/png": "[encoded data removed]",
      "text/plain": [
       "<Figure size 1296x576 with 1 Axes>"
      ]
     },
     "metadata": {
      "needs_background": "light"
     },
     "output_type": "display_data"
    }
   ],
   "source": [
    "plt.figure(figsize=(18, 8));\n",
    "plt.plot(data[['Appliances']][data['week']==20]);\n",
    "plt.xlabel('date');\n",
    "plt.ylabel('Appliances');"
   ]
  },
  {
   "cell_type": "markdown",
   "metadata": {},
   "source": [
    "## Валидация"
   ]
  },
  {
   "cell_type": "markdown",
   "metadata": {},
   "source": [
    "**Деление выборки на объекты(признаки) - X и метки(целевая переменная) - y**:"
   ]
  },
  {
   "cell_type": "code",
   "execution_count": 29,
   "metadata": {},
   "outputs": [],
   "source": [
    "X = data.drop('Appliances', axis=1)\n",
    "y = data[['Appliances']]"
   ]
  },
  {
   "cell_type": "markdown",
   "metadata": {},
   "source": [
    "**Разобъём датасет на 2 части:**\n",
    "\n",
    "1. Данные за недели 19-20 – тестовая выборка\n",
    "2. Недели 3-18 – обучающая выборка"
   ]
  },
  {
   "cell_type": "code",
   "execution_count": 30,
   "metadata": {},
   "outputs": [],
   "source": [
    "X_train = X[X['week'] < 19]\n",
    "X_test = X[X['week'] >= 19]\n",
    "\n",
    "y_train = y[:X_train.index[-1]]\n",
    "y_test = y[X_test.index[0]:]"
   ]
  },
  {
   "cell_type": "markdown",
   "metadata": {},
   "source": [
    "**Взглянем на размерности выборок:**"
   ]
  },
  {
   "cell_type": "code",
   "execution_count": 31,
   "metadata": {},
   "outputs": [
    {
     "data": {
      "text/plain": [
       "((16128, 28), (16128, 1))"
      ]
     },
     "execution_count": 31,
     "metadata": {},
     "output_type": "execute_result"
    }
   ],
   "source": [
    "X_train.shape, y_train.shape"
   ]
  },
  {
   "cell_type": "code",
   "execution_count": 32,
   "metadata": {},
   "outputs": [
    {
     "data": {
      "text/plain": [
       "((2016, 28), (2016, 1))"
      ]
     },
     "execution_count": 32,
     "metadata": {},
     "output_type": "execute_result"
    }
   ],
   "source": [
    "X_test.shape, y_test.shape"
   ]
  },
  {
   "cell_type": "markdown",
   "metadata": {},
   "source": [
    "## Градиентный бустинг - XGBoost"
   ]
  },
  {
   "cell_type": "markdown",
   "metadata": {},
   "source": [
    "**Подготовим данные:**"
   ]
  },
  {
   "cell_type": "code",
   "execution_count": 35,
   "metadata": {},
   "outputs": [],
   "source": [
    "dtrain = xgb.DMatrix(X_train, y_train)\n",
    "dtest = xgb.DMatrix(X_test, y_test)\n",
    "dall = xgb.DMatrix(X, y)"
   ]
  },
  {
   "cell_type": "markdown",
   "metadata": {},
   "source": [
    "**Зададим параметры модели:**"
   ]
  },
  {
   "cell_type": "code",
   "execution_count": 36,
   "metadata": {},
   "outputs": [],
   "source": [
    "# Глубина D=4, количество деревьев N=200\n",
    "max_depth = 4\n",
    "params = {'max_depth': max_depth}\n",
    "num_rounds = 200"
   ]
  },
  {
   "cell_type": "markdown",
   "metadata": {},
   "source": [
    "**Обучим модель:**"
   ]
  },
  {
   "cell_type": "code",
   "execution_count": 37,
   "metadata": {},
   "outputs": [
    {
     "name": "stdout",
     "output_type": "stream",
     "text": [
      "Wall time: 2.07 s\n"
     ]
    }
   ],
   "source": [
    "%%time\n",
    "\n",
    "xgb_model = xgb.train(params, dtrain, num_rounds)"
   ]
  },
  {
   "cell_type": "markdown",
   "metadata": {},
   "source": [
    "**Визуализируем feature importances (top-10):**"
   ]
  },
  {
   "cell_type": "code",
   "execution_count": 45,
   "metadata": {},
   "outputs": [
    {
     "data": {
      "image/png": "[encoded data removed]",
      "text/plain": [
       "<Figure size 864x576 with 1 Axes>"
      ]
     },
     "metadata": {
      "needs_background": "light"
     },
     "output_type": "display_data"
    }
   ],
   "source": [
    "importances = xgb_model.get_fscore()\n",
    "importances_df = pd.DataFrame({'importance': list(importances.values()), 'feature': list(importances.keys())})\n",
    "importances_df.sort_values('importance').tail(10).plot(kind='barh', x='feature', figsize=(12, 8), color='green');"
   ]
  },
  {
   "cell_type": "markdown",
   "metadata": {},
   "source": [
    "**F score при оценке важности признаков в Xgboost вычисляется на основе того, как часто разбиение делалось по данному признаку**"
   ]
  },
  {
   "cell_type": "markdown",
   "metadata": {},
   "source": [
    "**Функция, которая возвращает суммарное количество листьев у depth-wise tree глубины D:**"
   ]
  },
  {
   "cell_type": "code",
   "execution_count": 46,
   "metadata": {},
   "outputs": [],
   "source": [
    "def count_leaf(max_depth):\n",
    "    \n",
    "    L = 0\n",
    "    \n",
    "    for i in np.arange(max_depth+1):\n",
    "        \n",
    "        L += 2 ** i\n",
    "        \n",
    "    return L"
   ]
  },
  {
   "cell_type": "code",
   "execution_count": 47,
   "metadata": {},
   "outputs": [],
   "source": [
    "L = count_leaf(max_depth)"
   ]
  },
  {
   "cell_type": "markdown",
   "metadata": {},
   "source": [
    "**Получим прогнозы в виде перевода в новое признаковое пространство:  \n",
    "Каждый объект, когда прогоняется через бустинг, попадает в конкретный лист в каждом дереве. Если в каждом дереве L листьев, тогда всего у бустинга (N * L) листьев. Таким образом, объект можно представить как вектор из N индексов, где на i-й позиции номер листа, в который попал объект в i-ом дереве.**"
   ]
  },
  {
   "cell_type": "code",
   "execution_count": 48,
   "metadata": {},
   "outputs": [],
   "source": [
    "predict_leaf_all = xgb_model.predict(dall, pred_leaf = True)"
   ]
  },
  {
   "cell_type": "markdown",
   "metadata": {},
   "source": [
    "**Конвертируем листья из `[0; L)` в `[0, N*L)`:**"
   ]
  },
  {
   "cell_type": "code",
   "execution_count": 63,
   "metadata": {},
   "outputs": [],
   "source": [
    "delta = np.array([]) \n",
    "step = 0\n",
    "for i in range(predict_leaf_all.shape[1]):\n",
    "    delta = np.append(delta, step)\n",
    "    step += L"
   ]
  },
  {
   "cell_type": "code",
   "execution_count": 66,
   "metadata": {},
   "outputs": [],
   "source": [
    "convert_predict_all = predict_leaf_all + vector"
   ]
  },
  {
   "cell_type": "markdown",
   "metadata": {},
   "source": [
    "**Перведем `convert_predict_all` в `DataFrame`:**"
   ]
  },
  {
   "cell_type": "code",
   "execution_count": 68,
   "metadata": {},
   "outputs": [],
   "source": [
    "columns = []\n",
    "\n",
    "for num in np.arange(num_rounds):\n",
    "    column = 'tree_' + str(num + 1)\n",
    "    columns.append(column)"
   ]
  },
  {
   "cell_type": "code",
   "execution_count": 69,
   "metadata": {},
   "outputs": [],
   "source": [
    "convert_predict_all_df = pd.DataFrame(convert_predict_all, columns=columns)"
   ]
  },
  {
   "cell_type": "code",
   "execution_count": 70,
   "metadata": {},
   "outputs": [
    {
     "data": {
      "text/html": [
       "<div>\n",
       "<style scoped>\n",
       "    .dataframe tbody tr th:only-of-type {\n",
       "        vertical-align: middle;\n",
       "    }\n",
       "\n",
       "    .dataframe tbody tr th {\n",
       "        vertical-align: top;\n",
       "    }\n",
       "\n",
       "    .dataframe thead th {\n",
       "        text-align: right;\n",
       "    }\n",
       "</style>\n",
       "<table border=\"1\" class=\"dataframe\">\n",
       "  <thead>\n",
       "    <tr style=\"text-align: right;\">\n",
       "      <th></th>\n",
       "      <th>tree_1</th>\n",
       "      <th>tree_2</th>\n",
       "      <th>tree_3</th>\n",
       "      <th>tree_4</th>\n",
       "      <th>tree_5</th>\n",
       "      <th>tree_6</th>\n",
       "      <th>tree_7</th>\n",
       "      <th>tree_8</th>\n",
       "      <th>tree_9</th>\n",
       "      <th>tree_10</th>\n",
       "      <th>...</th>\n",
       "      <th>tree_191</th>\n",
       "      <th>tree_192</th>\n",
       "      <th>tree_193</th>\n",
       "      <th>tree_194</th>\n",
       "      <th>tree_195</th>\n",
       "      <th>tree_196</th>\n",
       "      <th>tree_197</th>\n",
       "      <th>tree_198</th>\n",
       "      <th>tree_199</th>\n",
       "      <th>tree_200</th>\n",
       "    </tr>\n",
       "  </thead>\n",
       "  <tbody>\n",
       "    <tr>\n",
       "      <th>0</th>\n",
       "      <td>30.0</td>\n",
       "      <td>57.0</td>\n",
       "      <td>92.0</td>\n",
       "      <td>113.0</td>\n",
       "      <td>144.0</td>\n",
       "      <td>169.0</td>\n",
       "      <td>205.0</td>\n",
       "      <td>244.0</td>\n",
       "      <td>265.0</td>\n",
       "      <td>298.0</td>\n",
       "      <td>...</td>\n",
       "      <td>5916.0</td>\n",
       "      <td>5948.0</td>\n",
       "      <td>5965.0</td>\n",
       "      <td>5998.0</td>\n",
       "      <td>6034.0</td>\n",
       "      <td>6066.0</td>\n",
       "      <td>6102.0</td>\n",
       "      <td>6122.0</td>\n",
       "      <td>6168.0</td>\n",
       "      <td>6182.0</td>\n",
       "    </tr>\n",
       "    <tr>\n",
       "      <th>1</th>\n",
       "      <td>30.0</td>\n",
       "      <td>57.0</td>\n",
       "      <td>92.0</td>\n",
       "      <td>113.0</td>\n",
       "      <td>144.0</td>\n",
       "      <td>169.0</td>\n",
       "      <td>205.0</td>\n",
       "      <td>244.0</td>\n",
       "      <td>265.0</td>\n",
       "      <td>298.0</td>\n",
       "      <td>...</td>\n",
       "      <td>5916.0</td>\n",
       "      <td>5948.0</td>\n",
       "      <td>5965.0</td>\n",
       "      <td>5998.0</td>\n",
       "      <td>6034.0</td>\n",
       "      <td>6066.0</td>\n",
       "      <td>6102.0</td>\n",
       "      <td>6122.0</td>\n",
       "      <td>6168.0</td>\n",
       "      <td>6182.0</td>\n",
       "    </tr>\n",
       "    <tr>\n",
       "      <th>2</th>\n",
       "      <td>30.0</td>\n",
       "      <td>57.0</td>\n",
       "      <td>92.0</td>\n",
       "      <td>113.0</td>\n",
       "      <td>144.0</td>\n",
       "      <td>169.0</td>\n",
       "      <td>205.0</td>\n",
       "      <td>244.0</td>\n",
       "      <td>265.0</td>\n",
       "      <td>298.0</td>\n",
       "      <td>...</td>\n",
       "      <td>5916.0</td>\n",
       "      <td>5948.0</td>\n",
       "      <td>5965.0</td>\n",
       "      <td>5998.0</td>\n",
       "      <td>6034.0</td>\n",
       "      <td>6066.0</td>\n",
       "      <td>6102.0</td>\n",
       "      <td>6122.0</td>\n",
       "      <td>6168.0</td>\n",
       "      <td>6182.0</td>\n",
       "    </tr>\n",
       "    <tr>\n",
       "      <th>3</th>\n",
       "      <td>30.0</td>\n",
       "      <td>57.0</td>\n",
       "      <td>92.0</td>\n",
       "      <td>113.0</td>\n",
       "      <td>154.0</td>\n",
       "      <td>169.0</td>\n",
       "      <td>205.0</td>\n",
       "      <td>244.0</td>\n",
       "      <td>265.0</td>\n",
       "      <td>298.0</td>\n",
       "      <td>...</td>\n",
       "      <td>5916.0</td>\n",
       "      <td>5948.0</td>\n",
       "      <td>5965.0</td>\n",
       "      <td>5998.0</td>\n",
       "      <td>6034.0</td>\n",
       "      <td>6066.0</td>\n",
       "      <td>6102.0</td>\n",
       "      <td>6122.0</td>\n",
       "      <td>6168.0</td>\n",
       "      <td>6182.0</td>\n",
       "    </tr>\n",
       "    <tr>\n",
       "      <th>4</th>\n",
       "      <td>20.0</td>\n",
       "      <td>53.0</td>\n",
       "      <td>82.0</td>\n",
       "      <td>113.0</td>\n",
       "      <td>144.0</td>\n",
       "      <td>169.0</td>\n",
       "      <td>205.0</td>\n",
       "      <td>244.0</td>\n",
       "      <td>265.0</td>\n",
       "      <td>298.0</td>\n",
       "      <td>...</td>\n",
       "      <td>5916.0</td>\n",
       "      <td>5948.0</td>\n",
       "      <td>5965.0</td>\n",
       "      <td>5998.0</td>\n",
       "      <td>6034.0</td>\n",
       "      <td>6066.0</td>\n",
       "      <td>6102.0</td>\n",
       "      <td>6122.0</td>\n",
       "      <td>6168.0</td>\n",
       "      <td>6182.0</td>\n",
       "    </tr>\n",
       "    <tr>\n",
       "      <th>...</th>\n",
       "      <td>...</td>\n",
       "      <td>...</td>\n",
       "      <td>...</td>\n",
       "      <td>...</td>\n",
       "      <td>...</td>\n",
       "      <td>...</td>\n",
       "      <td>...</td>\n",
       "      <td>...</td>\n",
       "      <td>...</td>\n",
       "      <td>...</td>\n",
       "      <td>...</td>\n",
       "      <td>...</td>\n",
       "      <td>...</td>\n",
       "      <td>...</td>\n",
       "      <td>...</td>\n",
       "      <td>...</td>\n",
       "      <td>...</td>\n",
       "      <td>...</td>\n",
       "      <td>...</td>\n",
       "      <td>...</td>\n",
       "      <td>...</td>\n",
       "    </tr>\n",
       "    <tr>\n",
       "      <th>18139</th>\n",
       "      <td>22.0</td>\n",
       "      <td>53.0</td>\n",
       "      <td>84.0</td>\n",
       "      <td>123.0</td>\n",
       "      <td>146.0</td>\n",
       "      <td>179.0</td>\n",
       "      <td>212.0</td>\n",
       "      <td>245.0</td>\n",
       "      <td>266.0</td>\n",
       "      <td>301.0</td>\n",
       "      <td>...</td>\n",
       "      <td>5916.0</td>\n",
       "      <td>5948.0</td>\n",
       "      <td>5968.0</td>\n",
       "      <td>5998.0</td>\n",
       "      <td>6034.0</td>\n",
       "      <td>6065.0</td>\n",
       "      <td>6104.0</td>\n",
       "      <td>6135.0</td>\n",
       "      <td>6168.0</td>\n",
       "      <td>6189.0</td>\n",
       "    </tr>\n",
       "    <tr>\n",
       "      <th>18140</th>\n",
       "      <td>22.0</td>\n",
       "      <td>53.0</td>\n",
       "      <td>84.0</td>\n",
       "      <td>123.0</td>\n",
       "      <td>146.0</td>\n",
       "      <td>179.0</td>\n",
       "      <td>212.0</td>\n",
       "      <td>245.0</td>\n",
       "      <td>266.0</td>\n",
       "      <td>301.0</td>\n",
       "      <td>...</td>\n",
       "      <td>5916.0</td>\n",
       "      <td>5948.0</td>\n",
       "      <td>5968.0</td>\n",
       "      <td>5998.0</td>\n",
       "      <td>6034.0</td>\n",
       "      <td>6065.0</td>\n",
       "      <td>6104.0</td>\n",
       "      <td>6135.0</td>\n",
       "      <td>6168.0</td>\n",
       "      <td>6189.0</td>\n",
       "    </tr>\n",
       "    <tr>\n",
       "      <th>18141</th>\n",
       "      <td>22.0</td>\n",
       "      <td>53.0</td>\n",
       "      <td>84.0</td>\n",
       "      <td>123.0</td>\n",
       "      <td>146.0</td>\n",
       "      <td>179.0</td>\n",
       "      <td>212.0</td>\n",
       "      <td>245.0</td>\n",
       "      <td>266.0</td>\n",
       "      <td>301.0</td>\n",
       "      <td>...</td>\n",
       "      <td>5916.0</td>\n",
       "      <td>5948.0</td>\n",
       "      <td>5968.0</td>\n",
       "      <td>5998.0</td>\n",
       "      <td>6034.0</td>\n",
       "      <td>6065.0</td>\n",
       "      <td>6104.0</td>\n",
       "      <td>6135.0</td>\n",
       "      <td>6168.0</td>\n",
       "      <td>6189.0</td>\n",
       "    </tr>\n",
       "    <tr>\n",
       "      <th>18142</th>\n",
       "      <td>22.0</td>\n",
       "      <td>53.0</td>\n",
       "      <td>84.0</td>\n",
       "      <td>123.0</td>\n",
       "      <td>146.0</td>\n",
       "      <td>179.0</td>\n",
       "      <td>212.0</td>\n",
       "      <td>245.0</td>\n",
       "      <td>266.0</td>\n",
       "      <td>301.0</td>\n",
       "      <td>...</td>\n",
       "      <td>5916.0</td>\n",
       "      <td>5948.0</td>\n",
       "      <td>5968.0</td>\n",
       "      <td>5998.0</td>\n",
       "      <td>6034.0</td>\n",
       "      <td>6065.0</td>\n",
       "      <td>6104.0</td>\n",
       "      <td>6135.0</td>\n",
       "      <td>6168.0</td>\n",
       "      <td>6189.0</td>\n",
       "    </tr>\n",
       "    <tr>\n",
       "      <th>18143</th>\n",
       "      <td>22.0</td>\n",
       "      <td>53.0</td>\n",
       "      <td>84.0</td>\n",
       "      <td>123.0</td>\n",
       "      <td>146.0</td>\n",
       "      <td>179.0</td>\n",
       "      <td>212.0</td>\n",
       "      <td>245.0</td>\n",
       "      <td>266.0</td>\n",
       "      <td>301.0</td>\n",
       "      <td>...</td>\n",
       "      <td>5916.0</td>\n",
       "      <td>5948.0</td>\n",
       "      <td>5968.0</td>\n",
       "      <td>5998.0</td>\n",
       "      <td>6034.0</td>\n",
       "      <td>6065.0</td>\n",
       "      <td>6104.0</td>\n",
       "      <td>6135.0</td>\n",
       "      <td>6168.0</td>\n",
       "      <td>6189.0</td>\n",
       "    </tr>\n",
       "  </tbody>\n",
       "</table>\n",
       "<p>18144 rows × 200 columns</p>\n",
       "</div>"
      ],
      "text/plain": [
       "       tree_1  tree_2  tree_3  tree_4  tree_5  tree_6  tree_7  tree_8  tree_9  \\\n",
       "0        30.0    57.0    92.0   113.0   144.0   169.0   205.0   244.0   265.0   \n",
       "1        30.0    57.0    92.0   113.0   144.0   169.0   205.0   244.0   265.0   \n",
       "2        30.0    57.0    92.0   113.0   144.0   169.0   205.0   244.0   265.0   \n",
       "3        30.0    57.0    92.0   113.0   154.0   169.0   205.0   244.0   265.0   \n",
       "4        20.0    53.0    82.0   113.0   144.0   169.0   205.0   244.0   265.0   \n",
       "...       ...     ...     ...     ...     ...     ...     ...     ...     ...   \n",
       "18139    22.0    53.0    84.0   123.0   146.0   179.0   212.0   245.0   266.0   \n",
       "18140    22.0    53.0    84.0   123.0   146.0   179.0   212.0   245.0   266.0   \n",
       "18141    22.0    53.0    84.0   123.0   146.0   179.0   212.0   245.0   266.0   \n",
       "18142    22.0    53.0    84.0   123.0   146.0   179.0   212.0   245.0   266.0   \n",
       "18143    22.0    53.0    84.0   123.0   146.0   179.0   212.0   245.0   266.0   \n",
       "\n",
       "       tree_10  ...  tree_191  tree_192  tree_193  tree_194  tree_195  \\\n",
       "0        298.0  ...    5916.0    5948.0    5965.0    5998.0    6034.0   \n",
       "1        298.0  ...    5916.0    5948.0    5965.0    5998.0    6034.0   \n",
       "2        298.0  ...    5916.0    5948.0    5965.0    5998.0    6034.0   \n",
       "3        298.0  ...    5916.0    5948.0    5965.0    5998.0    6034.0   \n",
       "4        298.0  ...    5916.0    5948.0    5965.0    5998.0    6034.0   \n",
       "...        ...  ...       ...       ...       ...       ...       ...   \n",
       "18139    301.0  ...    5916.0    5948.0    5968.0    5998.0    6034.0   \n",
       "18140    301.0  ...    5916.0    5948.0    5968.0    5998.0    6034.0   \n",
       "18141    301.0  ...    5916.0    5948.0    5968.0    5998.0    6034.0   \n",
       "18142    301.0  ...    5916.0    5948.0    5968.0    5998.0    6034.0   \n",
       "18143    301.0  ...    5916.0    5948.0    5968.0    5998.0    6034.0   \n",
       "\n",
       "       tree_196  tree_197  tree_198  tree_199  tree_200  \n",
       "0        6066.0    6102.0    6122.0    6168.0    6182.0  \n",
       "1        6066.0    6102.0    6122.0    6168.0    6182.0  \n",
       "2        6066.0    6102.0    6122.0    6168.0    6182.0  \n",
       "3        6066.0    6102.0    6122.0    6168.0    6182.0  \n",
       "4        6066.0    6102.0    6122.0    6168.0    6182.0  \n",
       "...         ...       ...       ...       ...       ...  \n",
       "18139    6065.0    6104.0    6135.0    6168.0    6189.0  \n",
       "18140    6065.0    6104.0    6135.0    6168.0    6189.0  \n",
       "18141    6065.0    6104.0    6135.0    6168.0    6189.0  \n",
       "18142    6065.0    6104.0    6135.0    6168.0    6189.0  \n",
       "18143    6065.0    6104.0    6135.0    6168.0    6189.0  \n",
       "\n",
       "[18144 rows x 200 columns]"
      ]
     },
     "execution_count": 70,
     "metadata": {},
     "output_type": "execute_result"
    }
   ],
   "source": [
    "convert_predict_all_df"
   ]
  },
  {
   "cell_type": "markdown",
   "metadata": {},
   "source": [
    "**Функция, котрая переводит индексы листьев в `One Hot Encoding`:**"
   ]
  },
  {
   "cell_type": "code",
   "execution_count": 71,
   "metadata": {},
   "outputs": [],
   "source": [
    "def one_hot_encoding(data, start=0, L=31, N=num_rounds):\n",
    "    \n",
    "    step = L\n",
    "    df = pd.DataFrame()\n",
    "    \n",
    "    for num in np.arange(N):\n",
    "        \n",
    "        key = 'tree_' + str(num + 1)\n",
    "\n",
    "        arange = np.arange(start, L)\n",
    "\n",
    "        start = L\n",
    "        L += step\n",
    "    \n",
    "        df[key] = list(arange)\n",
    "        \n",
    "    df_ohe = pd.get_dummies(data.append(df), columns=data.columns)\n",
    "        \n",
    "    return df_ohe.iloc[:-step, :]"
   ]
  },
  {
   "cell_type": "markdown",
   "metadata": {},
   "source": [
    "**Получим X_all:**"
   ]
  },
  {
   "cell_type": "code",
   "execution_count": 72,
   "metadata": {},
   "outputs": [],
   "source": [
    "X_all = one_hot_encoding(convert_predict_all_df)"
   ]
  },
  {
   "cell_type": "code",
   "execution_count": 73,
   "metadata": {},
   "outputs": [
    {
     "data": {
      "text/html": [
       "<div>\n",
       "<style scoped>\n",
       "    .dataframe tbody tr th:only-of-type {\n",
       "        vertical-align: middle;\n",
       "    }\n",
       "\n",
       "    .dataframe tbody tr th {\n",
       "        vertical-align: top;\n",
       "    }\n",
       "\n",
       "    .dataframe thead th {\n",
       "        text-align: right;\n",
       "    }\n",
       "</style>\n",
       "<table border=\"1\" class=\"dataframe\">\n",
       "  <thead>\n",
       "    <tr style=\"text-align: right;\">\n",
       "      <th></th>\n",
       "      <th>tree_1_0.0</th>\n",
       "      <th>tree_1_1.0</th>\n",
       "      <th>tree_1_2.0</th>\n",
       "      <th>tree_1_3.0</th>\n",
       "      <th>tree_1_4.0</th>\n",
       "      <th>tree_1_5.0</th>\n",
       "      <th>tree_1_6.0</th>\n",
       "      <th>tree_1_7.0</th>\n",
       "      <th>tree_1_8.0</th>\n",
       "      <th>tree_1_9.0</th>\n",
       "      <th>...</th>\n",
       "      <th>tree_200_6190.0</th>\n",
       "      <th>tree_200_6191.0</th>\n",
       "      <th>tree_200_6192.0</th>\n",
       "      <th>tree_200_6193.0</th>\n",
       "      <th>tree_200_6194.0</th>\n",
       "      <th>tree_200_6195.0</th>\n",
       "      <th>tree_200_6196.0</th>\n",
       "      <th>tree_200_6197.0</th>\n",
       "      <th>tree_200_6198.0</th>\n",
       "      <th>tree_200_6199.0</th>\n",
       "    </tr>\n",
       "  </thead>\n",
       "  <tbody>\n",
       "    <tr>\n",
       "      <th>0</th>\n",
       "      <td>0</td>\n",
       "      <td>0</td>\n",
       "      <td>0</td>\n",
       "      <td>0</td>\n",
       "      <td>0</td>\n",
       "      <td>0</td>\n",
       "      <td>0</td>\n",
       "      <td>0</td>\n",
       "      <td>0</td>\n",
       "      <td>0</td>\n",
       "      <td>...</td>\n",
       "      <td>0</td>\n",
       "      <td>0</td>\n",
       "      <td>0</td>\n",
       "      <td>0</td>\n",
       "      <td>0</td>\n",
       "      <td>0</td>\n",
       "      <td>0</td>\n",
       "      <td>0</td>\n",
       "      <td>0</td>\n",
       "      <td>0</td>\n",
       "    </tr>\n",
       "    <tr>\n",
       "      <th>1</th>\n",
       "      <td>0</td>\n",
       "      <td>0</td>\n",
       "      <td>0</td>\n",
       "      <td>0</td>\n",
       "      <td>0</td>\n",
       "      <td>0</td>\n",
       "      <td>0</td>\n",
       "      <td>0</td>\n",
       "      <td>0</td>\n",
       "      <td>0</td>\n",
       "      <td>...</td>\n",
       "      <td>0</td>\n",
       "      <td>0</td>\n",
       "      <td>0</td>\n",
       "      <td>0</td>\n",
       "      <td>0</td>\n",
       "      <td>0</td>\n",
       "      <td>0</td>\n",
       "      <td>0</td>\n",
       "      <td>0</td>\n",
       "      <td>0</td>\n",
       "    </tr>\n",
       "    <tr>\n",
       "      <th>2</th>\n",
       "      <td>0</td>\n",
       "      <td>0</td>\n",
       "      <td>0</td>\n",
       "      <td>0</td>\n",
       "      <td>0</td>\n",
       "      <td>0</td>\n",
       "      <td>0</td>\n",
       "      <td>0</td>\n",
       "      <td>0</td>\n",
       "      <td>0</td>\n",
       "      <td>...</td>\n",
       "      <td>0</td>\n",
       "      <td>0</td>\n",
       "      <td>0</td>\n",
       "      <td>0</td>\n",
       "      <td>0</td>\n",
       "      <td>0</td>\n",
       "      <td>0</td>\n",
       "      <td>0</td>\n",
       "      <td>0</td>\n",
       "      <td>0</td>\n",
       "    </tr>\n",
       "    <tr>\n",
       "      <th>3</th>\n",
       "      <td>0</td>\n",
       "      <td>0</td>\n",
       "      <td>0</td>\n",
       "      <td>0</td>\n",
       "      <td>0</td>\n",
       "      <td>0</td>\n",
       "      <td>0</td>\n",
       "      <td>0</td>\n",
       "      <td>0</td>\n",
       "      <td>0</td>\n",
       "      <td>...</td>\n",
       "      <td>0</td>\n",
       "      <td>0</td>\n",
       "      <td>0</td>\n",
       "      <td>0</td>\n",
       "      <td>0</td>\n",
       "      <td>0</td>\n",
       "      <td>0</td>\n",
       "      <td>0</td>\n",
       "      <td>0</td>\n",
       "      <td>0</td>\n",
       "    </tr>\n",
       "    <tr>\n",
       "      <th>4</th>\n",
       "      <td>0</td>\n",
       "      <td>0</td>\n",
       "      <td>0</td>\n",
       "      <td>0</td>\n",
       "      <td>0</td>\n",
       "      <td>0</td>\n",
       "      <td>0</td>\n",
       "      <td>0</td>\n",
       "      <td>0</td>\n",
       "      <td>0</td>\n",
       "      <td>...</td>\n",
       "      <td>0</td>\n",
       "      <td>0</td>\n",
       "      <td>0</td>\n",
       "      <td>0</td>\n",
       "      <td>0</td>\n",
       "      <td>0</td>\n",
       "      <td>0</td>\n",
       "      <td>0</td>\n",
       "      <td>0</td>\n",
       "      <td>0</td>\n",
       "    </tr>\n",
       "  </tbody>\n",
       "</table>\n",
       "<p>5 rows × 6200 columns</p>\n",
       "</div>"
      ],
      "text/plain": [
       "   tree_1_0.0  tree_1_1.0  tree_1_2.0  tree_1_3.0  tree_1_4.0  tree_1_5.0  \\\n",
       "0           0           0           0           0           0           0   \n",
       "1           0           0           0           0           0           0   \n",
       "2           0           0           0           0           0           0   \n",
       "3           0           0           0           0           0           0   \n",
       "4           0           0           0           0           0           0   \n",
       "\n",
       "   tree_1_6.0  tree_1_7.0  tree_1_8.0  tree_1_9.0  ...  tree_200_6190.0  \\\n",
       "0           0           0           0           0  ...                0   \n",
       "1           0           0           0           0  ...                0   \n",
       "2           0           0           0           0  ...                0   \n",
       "3           0           0           0           0  ...                0   \n",
       "4           0           0           0           0  ...                0   \n",
       "\n",
       "   tree_200_6191.0  tree_200_6192.0  tree_200_6193.0  tree_200_6194.0  \\\n",
       "0                0                0                0                0   \n",
       "1                0                0                0                0   \n",
       "2                0                0                0                0   \n",
       "3                0                0                0                0   \n",
       "4                0                0                0                0   \n",
       "\n",
       "   tree_200_6195.0  tree_200_6196.0  tree_200_6197.0  tree_200_6198.0  \\\n",
       "0                0                0                0                0   \n",
       "1                0                0                0                0   \n",
       "2                0                0                0                0   \n",
       "3                0                0                0                0   \n",
       "4                0                0                0                0   \n",
       "\n",
       "   tree_200_6199.0  \n",
       "0                0  \n",
       "1                0  \n",
       "2                0  \n",
       "3                0  \n",
       "4                0  \n",
       "\n",
       "[5 rows x 6200 columns]"
      ]
     },
     "execution_count": 73,
     "metadata": {},
     "output_type": "execute_result"
    }
   ],
   "source": [
    "X_all.head()"
   ]
  },
  {
   "cell_type": "markdown",
   "metadata": {},
   "source": [
    "## Линейная регрессия "
   ]
  },
  {
   "cell_type": "markdown",
   "metadata": {},
   "source": [
    "**Поверх полученной матрицы из нулей и единиц обучаем линейную регрессию:**"
   ]
  },
  {
   "cell_type": "markdown",
   "metadata": {},
   "source": [
    "**Разобьем выборку `X_all` на `train_set` и `test_set`:**"
   ]
  },
  {
   "cell_type": "code",
   "execution_count": 74,
   "metadata": {},
   "outputs": [],
   "source": [
    "train_set = X_all.iloc[:len(X_train), :]\n",
    "test_set = X_all.iloc[len(X_train):, :]"
   ]
  },
  {
   "cell_type": "markdown",
   "metadata": {},
   "source": [
    "**Проверим размерность:**"
   ]
  },
  {
   "cell_type": "code",
   "execution_count": 75,
   "metadata": {},
   "outputs": [
    {
     "name": "stdout",
     "output_type": "stream",
     "text": [
      "Длина train_set: 16128, длина y_train: 16128\n",
      "\n",
      "Длина test_set: 2016, длина y_test: 2016\n"
     ]
    }
   ],
   "source": [
    "print('Длина train_set: {}, длина y_train: {}'.format(len(train_set), len(y_train)))\n",
    "\n",
    "print('\\nДлина test_set: {}, длина y_test: {}'.format(len(test_set), len(y_test)))"
   ]
  },
  {
   "cell_type": "markdown",
   "metadata": {},
   "source": [
    "**Задаим линейную регрессию. Будем пользовать Lasso регрессией, для L1 регуляризации:**"
   ]
  },
  {
   "cell_type": "code",
   "execution_count": 79,
   "metadata": {},
   "outputs": [],
   "source": [
    "lasso = Lasso(alpha=0.666)"
   ]
  },
  {
   "cell_type": "markdown",
   "metadata": {},
   "source": [
    "**Обучим модель на `train_set`:**"
   ]
  },
  {
   "cell_type": "code",
   "execution_count": 80,
   "metadata": {},
   "outputs": [
    {
     "name": "stdout",
     "output_type": "stream",
     "text": [
      "Wall time: 2.58 s\n"
     ]
    },
    {
     "data": {
      "text/plain": [
       "Lasso(alpha=0.666)"
      ]
     },
     "execution_count": 80,
     "metadata": {},
     "output_type": "execute_result"
    }
   ],
   "source": [
    "%%time\n",
    "\n",
    "lasso.fit(train_set, y_train)"
   ]
  },
  {
   "cell_type": "markdown",
   "metadata": {},
   "source": [
    "**Узнаем, сколько признаков отключилось:**"
   ]
  },
  {
   "cell_type": "code",
   "execution_count": 81,
   "metadata": {},
   "outputs": [
    {
     "name": "stdout",
     "output_type": "stream",
     "text": [
      "Всего 6200 признаков, из них отключилось 6046 признаков\n",
      "\n",
      "Отключилось 97.52% признаков\n"
     ]
    }
   ],
   "source": [
    "count_of_weight_0 = 0\n",
    "\n",
    "for coef in lasso.coef_:\n",
    "    \n",
    "    if coef == 0:\n",
    "        \n",
    "        count_of_weight_0 += 1\n",
    "\n",
    "print('Всего {} признаков, из них отключилось {} признаков'.format(len(lasso.coef_), count_of_weight_0))\n",
    "print('\\nОтключилось {:.2f}% признаков'.format(count_of_weight_0 / len(lasso.coef_) * 100))"
   ]
  },
  {
   "cell_type": "markdown",
   "metadata": {},
   "source": [
    "**Визуализируем веса регрессии для первых 10 деревьев:**  \n",
    "Первые 10 деревьев - признаки `tree_1_0`, ... , `tree_1_30`, `tree_2_31`, ... , `tree_10_309`, всего 10 * L = 310, L = 31:"
   ]
  },
  {
   "cell_type": "code",
   "execution_count": 82,
   "metadata": {},
   "outputs": [],
   "source": [
    "chart_columns = []\n",
    "for num in np.arange(31):\n",
    "    \n",
    "    chart_column = 'leaf_' + str(num)\n",
    "    \n",
    "    chart_columns.append(chart_column)"
   ]
  },
  {
   "cell_type": "code",
   "execution_count": 85,
   "metadata": {},
   "outputs": [
    {
     "data": {
      "image/png": "[encoded data removed]",
      "text/plain": [
       "<Figure size 864x576 with 1 Axes>"
      ]
     },
     "metadata": {
      "needs_background": "light"
     },
     "output_type": "display_data"
    }
   ],
   "source": [
    "plt.figure(figsize = (12, 8))\n",
    "legend = []\n",
    "\n",
    "for offset in np.arange(0, 10):\n",
    "    \n",
    "    color = np.random.rand(3)\n",
    "    plt.scatter(chart_columns, lasso.coef_[(offset * 31):((offset + 1) * 31)], color=color);\n",
    "    legend.append('tree_' + str(offset + 1))\n",
    "    \n",
    "plt.xticks(rotation = 90);\n",
    "plt.legend(legend);"
   ]
  },
  {
   "cell_type": "markdown",
   "metadata": {},
   "source": [
    "**Визуализация реального таргета и его прогноза (последние 100 точек, сортировка по дате):**"
   ]
  },
  {
   "cell_type": "code",
   "execution_count": 86,
   "metadata": {},
   "outputs": [
    {
     "data": {
      "image/png": "[encoded data removed]",
      "text/plain": [
       "<Figure size 1296x576 with 1 Axes>"
      ]
     },
     "metadata": {
      "needs_background": "light"
     },
     "output_type": "display_data"
    }
   ],
   "source": [
    "plt.figure(figsize = (18, 8))\n",
    "plt.plot(y_test[-100:].index, y_test[-100:]);\n",
    "plt.plot(y_test[-100:].index, lasso.predict(test_set)[-100:]);\n",
    "plt.xlabel('date');\n",
    "plt.ylabel('Appliances');\n",
    "plt.legend(['real', 'predict']);"
   ]
  },
  {
   "cell_type": "markdown",
   "metadata": {},
   "source": [
    "**На веса модели накинем случайный шум 20 раз и с помощью каждого инстанса зашумлённой модели получаем прогноз**\n",
    "\n",
    "Например, $w' = w \\tau,\\ \\tau \\sim \\mathcal{N}(1,\\ 0.2)$"
   ]
  },
  {
   "cell_type": "code",
   "execution_count": 87,
   "metadata": {},
   "outputs": [
    {
     "name": "stdout",
     "output_type": "stream",
     "text": [
      "Wall time: 2.6 s\n"
     ]
    },
    {
     "data": {
      "text/plain": [
       "Lasso(alpha=0.666)"
      ]
     },
     "execution_count": 87,
     "metadata": {},
     "output_type": "execute_result"
    }
   ],
   "source": [
    "%%time\n",
    "\n",
    "lasso_noise = Lasso(alpha=0.666)\n",
    "\n",
    "lasso_noise.fit(train_set, y_train)"
   ]
  },
  {
   "cell_type": "code",
   "execution_count": 92,
   "metadata": {},
   "outputs": [
    {
     "name": "stdout",
     "output_type": "stream",
     "text": [
      "Wall time: 2.58 s\n"
     ]
    }
   ],
   "source": [
    "%%time\n",
    "\n",
    "# параметры нормального распределения:\n",
    "mu, sigma = 1, 0.2\n",
    "\n",
    "lasso_noise_coef = lasso_noise.coef_\n",
    "df_predict_test = pd.DataFrame()\n",
    "\n",
    "for i in np.arange(0, 20):\n",
    "    \n",
    "    lasso_noise.coef_ = lasso_noise_coef * np.random.normal(mu, sigma, len(lasso.coef_))\n",
    "    \n",
    "    column = 'predict_' + str(i)\n",
    "    \n",
    "    df_predict_test[column] = list(lasso_noise.predict(test_set))"
   ]
  },
  {
   "cell_type": "code",
   "execution_count": 103,
   "metadata": {},
   "outputs": [],
   "source": [
    "df_predict_test['quantile_l'] = df_predict_test.quantile(0.05, axis=1)\n",
    "df_predict_test['quantile_u'] = df_predict_test.quantile(0.95, axis=1)\n",
    "df_predict_test['mean'] = df_predict_test.mean(axis=1)\n",
    "df_predict_test['real'] = list(y_test['Appliances']) # добавляем столбец с реальными значениями"
   ]
  },
  {
   "cell_type": "code",
   "execution_count": 107,
   "metadata": {},
   "outputs": [
    {
     "data": {
      "text/html": [
       "<div>\n",
       "<style scoped>\n",
       "    .dataframe tbody tr th:only-of-type {\n",
       "        vertical-align: middle;\n",
       "    }\n",
       "\n",
       "    .dataframe tbody tr th {\n",
       "        vertical-align: top;\n",
       "    }\n",
       "\n",
       "    .dataframe thead th {\n",
       "        text-align: right;\n",
       "    }\n",
       "</style>\n",
       "<table border=\"1\" class=\"dataframe\">\n",
       "  <thead>\n",
       "    <tr style=\"text-align: right;\">\n",
       "      <th></th>\n",
       "      <th>predict_0</th>\n",
       "      <th>predict_1</th>\n",
       "      <th>predict_2</th>\n",
       "      <th>predict_3</th>\n",
       "      <th>predict_4</th>\n",
       "      <th>predict_5</th>\n",
       "      <th>predict_6</th>\n",
       "      <th>predict_7</th>\n",
       "      <th>predict_8</th>\n",
       "      <th>predict_9</th>\n",
       "      <th>...</th>\n",
       "      <th>predict_14</th>\n",
       "      <th>predict_15</th>\n",
       "      <th>predict_16</th>\n",
       "      <th>predict_17</th>\n",
       "      <th>predict_18</th>\n",
       "      <th>predict_19</th>\n",
       "      <th>quantile_l</th>\n",
       "      <th>quantile_u</th>\n",
       "      <th>mean</th>\n",
       "      <th>real</th>\n",
       "    </tr>\n",
       "  </thead>\n",
       "  <tbody>\n",
       "    <tr>\n",
       "      <th>0</th>\n",
       "      <td>108.195629</td>\n",
       "      <td>98.482669</td>\n",
       "      <td>114.538318</td>\n",
       "      <td>102.572000</td>\n",
       "      <td>89.631695</td>\n",
       "      <td>101.328019</td>\n",
       "      <td>101.509063</td>\n",
       "      <td>97.406276</td>\n",
       "      <td>91.496781</td>\n",
       "      <td>87.373809</td>\n",
       "      <td>...</td>\n",
       "      <td>87.877986</td>\n",
       "      <td>109.813252</td>\n",
       "      <td>109.122648</td>\n",
       "      <td>83.256829</td>\n",
       "      <td>113.011486</td>\n",
       "      <td>94.301809</td>\n",
       "      <td>83.344829</td>\n",
       "      <td>114.538318</td>\n",
       "      <td>98.610762</td>\n",
       "      <td>60.0</td>\n",
       "    </tr>\n",
       "    <tr>\n",
       "      <th>1</th>\n",
       "      <td>108.195629</td>\n",
       "      <td>98.482669</td>\n",
       "      <td>114.538318</td>\n",
       "      <td>102.572000</td>\n",
       "      <td>89.631695</td>\n",
       "      <td>101.328019</td>\n",
       "      <td>101.509063</td>\n",
       "      <td>97.406276</td>\n",
       "      <td>91.496781</td>\n",
       "      <td>87.373809</td>\n",
       "      <td>...</td>\n",
       "      <td>87.877986</td>\n",
       "      <td>109.813252</td>\n",
       "      <td>109.122648</td>\n",
       "      <td>83.256829</td>\n",
       "      <td>113.011486</td>\n",
       "      <td>94.301809</td>\n",
       "      <td>83.344829</td>\n",
       "      <td>114.538318</td>\n",
       "      <td>98.176735</td>\n",
       "      <td>50.0</td>\n",
       "    </tr>\n",
       "    <tr>\n",
       "      <th>2</th>\n",
       "      <td>89.053399</td>\n",
       "      <td>82.421599</td>\n",
       "      <td>95.579107</td>\n",
       "      <td>86.027665</td>\n",
       "      <td>73.879452</td>\n",
       "      <td>82.237197</td>\n",
       "      <td>83.717137</td>\n",
       "      <td>78.974174</td>\n",
       "      <td>73.043494</td>\n",
       "      <td>72.580959</td>\n",
       "      <td>...</td>\n",
       "      <td>73.705795</td>\n",
       "      <td>96.242265</td>\n",
       "      <td>89.130043</td>\n",
       "      <td>64.306600</td>\n",
       "      <td>91.883711</td>\n",
       "      <td>74.922724</td>\n",
       "      <td>64.483465</td>\n",
       "      <td>96.242265</td>\n",
       "      <td>81.565007</td>\n",
       "      <td>50.0</td>\n",
       "    </tr>\n",
       "    <tr>\n",
       "      <th>3</th>\n",
       "      <td>89.053399</td>\n",
       "      <td>82.421599</td>\n",
       "      <td>95.579107</td>\n",
       "      <td>86.027665</td>\n",
       "      <td>73.879452</td>\n",
       "      <td>82.237197</td>\n",
       "      <td>83.717137</td>\n",
       "      <td>78.974174</td>\n",
       "      <td>73.043494</td>\n",
       "      <td>72.580959</td>\n",
       "      <td>...</td>\n",
       "      <td>73.705795</td>\n",
       "      <td>96.242265</td>\n",
       "      <td>89.130043</td>\n",
       "      <td>64.306600</td>\n",
       "      <td>91.883711</td>\n",
       "      <td>74.922724</td>\n",
       "      <td>64.483465</td>\n",
       "      <td>96.242265</td>\n",
       "      <td>81.565007</td>\n",
       "      <td>50.0</td>\n",
       "    </tr>\n",
       "    <tr>\n",
       "      <th>4</th>\n",
       "      <td>89.053399</td>\n",
       "      <td>82.421599</td>\n",
       "      <td>95.579107</td>\n",
       "      <td>86.027665</td>\n",
       "      <td>73.879452</td>\n",
       "      <td>82.237197</td>\n",
       "      <td>83.717137</td>\n",
       "      <td>78.974174</td>\n",
       "      <td>73.043494</td>\n",
       "      <td>72.580959</td>\n",
       "      <td>...</td>\n",
       "      <td>73.705795</td>\n",
       "      <td>96.242265</td>\n",
       "      <td>89.130043</td>\n",
       "      <td>64.306600</td>\n",
       "      <td>91.883711</td>\n",
       "      <td>74.922724</td>\n",
       "      <td>64.483465</td>\n",
       "      <td>96.242265</td>\n",
       "      <td>81.999035</td>\n",
       "      <td>60.0</td>\n",
       "    </tr>\n",
       "    <tr>\n",
       "      <th>...</th>\n",
       "      <td>...</td>\n",
       "      <td>...</td>\n",
       "      <td>...</td>\n",
       "      <td>...</td>\n",
       "      <td>...</td>\n",
       "      <td>...</td>\n",
       "      <td>...</td>\n",
       "      <td>...</td>\n",
       "      <td>...</td>\n",
       "      <td>...</td>\n",
       "      <td>...</td>\n",
       "      <td>...</td>\n",
       "      <td>...</td>\n",
       "      <td>...</td>\n",
       "      <td>...</td>\n",
       "      <td>...</td>\n",
       "      <td>...</td>\n",
       "      <td>...</td>\n",
       "      <td>...</td>\n",
       "      <td>...</td>\n",
       "      <td>...</td>\n",
       "    </tr>\n",
       "    <tr>\n",
       "      <th>2011</th>\n",
       "      <td>212.081217</td>\n",
       "      <td>230.884644</td>\n",
       "      <td>220.851594</td>\n",
       "      <td>233.957005</td>\n",
       "      <td>215.729228</td>\n",
       "      <td>216.477998</td>\n",
       "      <td>210.212875</td>\n",
       "      <td>246.852764</td>\n",
       "      <td>158.408173</td>\n",
       "      <td>250.243561</td>\n",
       "      <td>...</td>\n",
       "      <td>246.516806</td>\n",
       "      <td>239.566681</td>\n",
       "      <td>229.826753</td>\n",
       "      <td>215.233414</td>\n",
       "      <td>209.342615</td>\n",
       "      <td>190.959343</td>\n",
       "      <td>159.043552</td>\n",
       "      <td>246.852764</td>\n",
       "      <td>213.116803</td>\n",
       "      <td>60.0</td>\n",
       "    </tr>\n",
       "    <tr>\n",
       "      <th>2012</th>\n",
       "      <td>212.916915</td>\n",
       "      <td>231.547113</td>\n",
       "      <td>221.041471</td>\n",
       "      <td>234.590998</td>\n",
       "      <td>216.487914</td>\n",
       "      <td>216.923195</td>\n",
       "      <td>210.220385</td>\n",
       "      <td>247.450747</td>\n",
       "      <td>158.922285</td>\n",
       "      <td>250.508308</td>\n",
       "      <td>...</td>\n",
       "      <td>246.896544</td>\n",
       "      <td>239.700356</td>\n",
       "      <td>230.481482</td>\n",
       "      <td>215.514884</td>\n",
       "      <td>209.988055</td>\n",
       "      <td>190.971565</td>\n",
       "      <td>159.548899</td>\n",
       "      <td>247.450747</td>\n",
       "      <td>213.545362</td>\n",
       "      <td>60.0</td>\n",
       "    </tr>\n",
       "    <tr>\n",
       "      <th>2013</th>\n",
       "      <td>213.876308</td>\n",
       "      <td>232.271119</td>\n",
       "      <td>221.990876</td>\n",
       "      <td>235.108832</td>\n",
       "      <td>217.303120</td>\n",
       "      <td>217.741031</td>\n",
       "      <td>211.046659</td>\n",
       "      <td>248.484955</td>\n",
       "      <td>160.011337</td>\n",
       "      <td>251.410802</td>\n",
       "      <td>...</td>\n",
       "      <td>247.918118</td>\n",
       "      <td>240.411088</td>\n",
       "      <td>231.066571</td>\n",
       "      <td>216.150083</td>\n",
       "      <td>210.912976</td>\n",
       "      <td>191.988419</td>\n",
       "      <td>160.634067</td>\n",
       "      <td>248.484955</td>\n",
       "      <td>214.376052</td>\n",
       "      <td>60.0</td>\n",
       "    </tr>\n",
       "    <tr>\n",
       "      <th>2014</th>\n",
       "      <td>213.876308</td>\n",
       "      <td>232.271119</td>\n",
       "      <td>221.990876</td>\n",
       "      <td>235.108832</td>\n",
       "      <td>217.303120</td>\n",
       "      <td>217.741031</td>\n",
       "      <td>211.046659</td>\n",
       "      <td>248.484955</td>\n",
       "      <td>160.011337</td>\n",
       "      <td>251.410802</td>\n",
       "      <td>...</td>\n",
       "      <td>247.918118</td>\n",
       "      <td>240.411088</td>\n",
       "      <td>231.066571</td>\n",
       "      <td>216.150083</td>\n",
       "      <td>210.912976</td>\n",
       "      <td>191.988419</td>\n",
       "      <td>160.634067</td>\n",
       "      <td>248.484955</td>\n",
       "      <td>214.376052</td>\n",
       "      <td>60.0</td>\n",
       "    </tr>\n",
       "    <tr>\n",
       "      <th>2015</th>\n",
       "      <td>215.169024</td>\n",
       "      <td>234.247771</td>\n",
       "      <td>224.013804</td>\n",
       "      <td>235.843364</td>\n",
       "      <td>218.565560</td>\n",
       "      <td>218.893749</td>\n",
       "      <td>212.559164</td>\n",
       "      <td>249.642156</td>\n",
       "      <td>161.816311</td>\n",
       "      <td>252.590658</td>\n",
       "      <td>...</td>\n",
       "      <td>249.795526</td>\n",
       "      <td>242.016536</td>\n",
       "      <td>232.070344</td>\n",
       "      <td>217.600087</td>\n",
       "      <td>212.155122</td>\n",
       "      <td>193.376099</td>\n",
       "      <td>162.427698</td>\n",
       "      <td>249.795526</td>\n",
       "      <td>215.738194</td>\n",
       "      <td>60.0</td>\n",
       "    </tr>\n",
       "  </tbody>\n",
       "</table>\n",
       "<p>2016 rows × 24 columns</p>\n",
       "</div>"
      ],
      "text/plain": [
       "       predict_0   predict_1   predict_2   predict_3   predict_4   predict_5  \\\n",
       "0     108.195629   98.482669  114.538318  102.572000   89.631695  101.328019   \n",
       "1     108.195629   98.482669  114.538318  102.572000   89.631695  101.328019   \n",
       "2      89.053399   82.421599   95.579107   86.027665   73.879452   82.237197   \n",
       "3      89.053399   82.421599   95.579107   86.027665   73.879452   82.237197   \n",
       "4      89.053399   82.421599   95.579107   86.027665   73.879452   82.237197   \n",
       "...          ...         ...         ...         ...         ...         ...   \n",
       "2011  212.081217  230.884644  220.851594  233.957005  215.729228  216.477998   \n",
       "2012  212.916915  231.547113  221.041471  234.590998  216.487914  216.923195   \n",
       "2013  213.876308  232.271119  221.990876  235.108832  217.303120  217.741031   \n",
       "2014  213.876308  232.271119  221.990876  235.108832  217.303120  217.741031   \n",
       "2015  215.169024  234.247771  224.013804  235.843364  218.565560  218.893749   \n",
       "\n",
       "       predict_6   predict_7   predict_8   predict_9  ...  predict_14  \\\n",
       "0     101.509063   97.406276   91.496781   87.373809  ...   87.877986   \n",
       "1     101.509063   97.406276   91.496781   87.373809  ...   87.877986   \n",
       "2      83.717137   78.974174   73.043494   72.580959  ...   73.705795   \n",
       "3      83.717137   78.974174   73.043494   72.580959  ...   73.705795   \n",
       "4      83.717137   78.974174   73.043494   72.580959  ...   73.705795   \n",
       "...          ...         ...         ...         ...  ...         ...   \n",
       "2011  210.212875  246.852764  158.408173  250.243561  ...  246.516806   \n",
       "2012  210.220385  247.450747  158.922285  250.508308  ...  246.896544   \n",
       "2013  211.046659  248.484955  160.011337  251.410802  ...  247.918118   \n",
       "2014  211.046659  248.484955  160.011337  251.410802  ...  247.918118   \n",
       "2015  212.559164  249.642156  161.816311  252.590658  ...  249.795526   \n",
       "\n",
       "      predict_15  predict_16  predict_17  predict_18  predict_19  quantile_l  \\\n",
       "0     109.813252  109.122648   83.256829  113.011486   94.301809   83.344829   \n",
       "1     109.813252  109.122648   83.256829  113.011486   94.301809   83.344829   \n",
       "2      96.242265   89.130043   64.306600   91.883711   74.922724   64.483465   \n",
       "3      96.242265   89.130043   64.306600   91.883711   74.922724   64.483465   \n",
       "4      96.242265   89.130043   64.306600   91.883711   74.922724   64.483465   \n",
       "...          ...         ...         ...         ...         ...         ...   \n",
       "2011  239.566681  229.826753  215.233414  209.342615  190.959343  159.043552   \n",
       "2012  239.700356  230.481482  215.514884  209.988055  190.971565  159.548899   \n",
       "2013  240.411088  231.066571  216.150083  210.912976  191.988419  160.634067   \n",
       "2014  240.411088  231.066571  216.150083  210.912976  191.988419  160.634067   \n",
       "2015  242.016536  232.070344  217.600087  212.155122  193.376099  162.427698   \n",
       "\n",
       "      quantile_u        mean  real  \n",
       "0     114.538318   98.610762  60.0  \n",
       "1     114.538318   98.176735  50.0  \n",
       "2      96.242265   81.565007  50.0  \n",
       "3      96.242265   81.565007  50.0  \n",
       "4      96.242265   81.999035  60.0  \n",
       "...          ...         ...   ...  \n",
       "2011  246.852764  213.116803  60.0  \n",
       "2012  247.450747  213.545362  60.0  \n",
       "2013  248.484955  214.376052  60.0  \n",
       "2014  248.484955  214.376052  60.0  \n",
       "2015  249.795526  215.738194  60.0  \n",
       "\n",
       "[2016 rows x 24 columns]"
      ]
     },
     "execution_count": 107,
     "metadata": {},
     "output_type": "execute_result"
    }
   ],
   "source": [
    "df_predict_test"
   ]
  },
  {
   "cell_type": "markdown",
   "metadata": {},
   "source": [
    "**Визуализируем последние 500 объектов из train set (таргет + прогноз + прозрачным цветом область доверительного интервала):**"
   ]
  },
  {
   "cell_type": "code",
   "execution_count": 112,
   "metadata": {},
   "outputs": [
    {
     "data": {
      "image/png": "[encoded data removed]",
      "text/plain": [
       "<Figure size 1296x576 with 1 Axes>"
      ]
     },
     "metadata": {
      "needs_background": "light"
     },
     "output_type": "display_data"
    }
   ],
   "source": [
    "plt.figure(figsize = (18, 8));\n",
    "plt.fill_between(X_test.index[-500:], df_predict_test['quantile_l'][-500:], df_predict_test['quantile_u'][-500:], alpha=0.3);\n",
    "plt.plot(X_test.index[-500:], df_predict_test['mean'][-500:], c='red');\n",
    "plt.plot(X_test[-500:].index, y_test[-500:], c='green');\n",
    "plt.xlabel('date');\n",
    "plt.ylabel('Appliances');\n",
    "plt.legend(['mean_predict', 'real', 'сonfidence_interval']);"
   ]
  }
 ],
 "metadata": {
  "kernelspec": {
   "display_name": "Python 3",
   "language": "python",
   "name": "python3"
  },
  "language_info": {
   "codemirror_mode": {
    "name": "ipython",
    "version": 3
   },
   "file_extension": ".py",
   "mimetype": "text/x-python",
   "name": "python",
   "nbconvert_exporter": "python",
   "pygments_lexer": "ipython3",
   "version": "3.7.6"
  }
 },
 "nbformat": 4,
 "nbformat_minor": 4
}
